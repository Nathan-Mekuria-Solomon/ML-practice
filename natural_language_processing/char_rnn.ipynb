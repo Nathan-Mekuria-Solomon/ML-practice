{
 "cells": [
  {
   "cell_type": "code",
   "execution_count": null,
   "id": "fd6c8eb5",
   "metadata": {},
   "outputs": [],
   "source": [
    "import tensorflow as tf"
   ]
  }
 ],
 "metadata": {
  "language_info": {
   "name": "python"
  }
 },
 "nbformat": 4,
 "nbformat_minor": 5
}
