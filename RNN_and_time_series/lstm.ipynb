{
 "cells": [
  {
   "cell_type": "code",
   "execution_count": 1,
   "id": "1cea58ad",
   "metadata": {},
   "outputs": [],
   "source": [
    "# long short-term memory\n",
    "import tensorflow as tf"
   ]
  },
  {
   "cell_type": "code",
   "execution_count": 2,
   "id": "7e6b9b13",
   "metadata": {},
   "outputs": [],
   "source": [
    "# using LSTM layer\n",
    "model = tf.keras.models.Sequential([\n",
    "    tf.keras.layers.Input(shape= [None, 1]),\n",
    "    tf.keras.layers.LSTM(20, return_sequences= True),\n",
    "    tf.keras.layers.LSTM(20, return_sequences= True),\n",
    "    tf.keras.layers.TimeDistributed(tf.keras.layers.Dense(10))\n",
    "])"
   ]
  },
  {
   "cell_type": "code",
   "execution_count": 3,
   "id": "5d9eeeaa",
   "metadata": {},
   "outputs": [],
   "source": [
    "# using simple RNN layer\n",
    "model = tf.keras.models.Sequential([\n",
    "    tf.keras.layers.Input(shape= [None, 1]),\n",
    "    tf.keras.layers.RNN(tf.keras.layers.LSTMCell(20), return_sequences= True),\n",
    "    tf.keras.layers.RNN(tf.keras.layers.LSTMCell(20), return_sequences= True),\n",
    "    tf.keras.layers.TimeDistributed(tf.keras.layers.Dense(10))\n",
    "])"
   ]
  },
  {
   "cell_type": "code",
   "execution_count": null,
   "id": "f2caf283",
   "metadata": {},
   "outputs": [],
   "source": []
  }
 ],
 "metadata": {
  "kernelspec": {
   "display_name": "Python 3",
   "language": "python",
   "name": "python3"
  },
  "language_info": {
   "codemirror_mode": {
    "name": "ipython",
    "version": 3
   },
   "file_extension": ".py",
   "mimetype": "text/x-python",
   "name": "python",
   "nbconvert_exporter": "python",
   "pygments_lexer": "ipython3",
   "version": "3.11.9"
  }
 },
 "nbformat": 4,
 "nbformat_minor": 5
}
