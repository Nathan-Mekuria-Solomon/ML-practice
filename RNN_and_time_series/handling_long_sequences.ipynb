{
 "cells": [
  {
   "cell_type": "code",
   "execution_count": 11,
   "id": "dc111b7b",
   "metadata": {},
   "outputs": [],
   "source": [
    "import tensorflow as tf\n",
    "\n",
    "import warnings\n",
    "warnings.filterwarnings(\"ignore\")\n"
   ]
  },
  {
   "cell_type": "code",
   "execution_count": 12,
   "id": "652ad275",
   "metadata": {},
   "outputs": [],
   "source": [
    "# custome memory cell with layer normalization\n",
    "class LNMemory(tf.keras.layers.Layer):\n",
    "    def __init__(self, units, activation= \"tanh\", **kwargs):\n",
    "        super().__init__(**kwargs)\n",
    "        self.state_size = units\n",
    "        self.output_size = units\n",
    "        self.simple_rnn_cell = tf.keras.layers.SimpleRNNCell(units, activation= None)\n",
    "        self.ln_layer = tf.keras.layers.LayerNormalization()\n",
    "        self.activation = tf.keras.activations.get(activation)\n",
    "    \n",
    "    def call(self, inputs, states):\n",
    "        outputs, new_states = self.simple_rnn_cell(inputs, states)\n",
    "        norm_outputs = self.activation(self.ln_layer(outputs))\n",
    "        return norm_outputs, [norm_outputs] # next rnn step expects tuple or list input"
   ]
  },
  {
   "cell_type": "code",
   "execution_count": 13,
   "id": "658db51b",
   "metadata": {},
   "outputs": [],
   "source": [
    "model = tf.keras.models.Sequential([\n",
    "    tf.keras.layers.Input(shape= [None, 1]),\n",
    "    tf.keras.layers.RNN(LNMemory(10), return_sequences= True), # input_shape ?\n",
    "    tf.keras.layers.RNN(LNMemory(10), return_sequences= True),\n",
    "    tf.keras.layers.TimeDistributed(tf.keras.layers.Dense(10))\n",
    "])"
   ]
  },
  {
   "cell_type": "code",
   "execution_count": null,
   "id": "9dfc245c",
   "metadata": {},
   "outputs": [],
   "source": []
  }
 ],
 "metadata": {
  "kernelspec": {
   "display_name": "Python 3",
   "language": "python",
   "name": "python3"
  },
  "language_info": {
   "codemirror_mode": {
    "name": "ipython",
    "version": 3
   },
   "file_extension": ".py",
   "mimetype": "text/x-python",
   "name": "python",
   "nbconvert_exporter": "python",
   "pygments_lexer": "ipython3",
   "version": "3.11.9"
  }
 },
 "nbformat": 4,
 "nbformat_minor": 5
}
