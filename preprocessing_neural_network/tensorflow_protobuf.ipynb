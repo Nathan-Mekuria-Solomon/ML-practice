{
 "cells": [
  {
   "cell_type": "code",
   "execution_count": 12,
   "id": "ea44ccb8",
   "metadata": {},
   "outputs": [],
   "source": [
    "import tensorflow as tf\n",
    "from tensorflow.train import BytesList, FloatList, Int64List\n",
    "from tensorflow.train import Feature, Features, Example"
   ]
  },
  {
   "cell_type": "code",
   "execution_count": 13,
   "id": "d354eac5",
   "metadata": {},
   "outputs": [],
   "source": [
    "person_example = Example(features= Features(\n",
    "    feature = {\n",
    "        \"name\" : Feature(bytes_list= BytesList(value= [b\"Nathan Solomon\"])),\n",
    "        \"id\" : Feature(int64_list= Int64List(value= [1])),\n",
    "        \"email\" : Feature(bytes_list= BytesList(value= [b\"nathansolomon@std.iyte.edu.tr\", b\"solomonnathanmekuria@gmail.com\"]))\n",
    "    }\n",
    "))"
   ]
  },
  {
   "cell_type": "code",
   "execution_count": 14,
   "id": "95edfeb1",
   "metadata": {},
   "outputs": [],
   "source": [
    "# serialize person_example and write it in TFRecord\n",
    "with tf.io.TFRecordWriter(\"my_contacts.tfrecord\") as f:\n",
    "    f.write(person_example.SerializeToString())"
   ]
  },
  {
   "cell_type": "code",
   "execution_count": null,
   "id": "d29391de",
   "metadata": {},
   "outputs": [
    {
     "name": "stdout",
     "output_type": "stream",
     "text": [
      "{'email': SparseTensor(indices=tf.Tensor(\n",
      "[[0]\n",
      " [1]], shape=(2, 1), dtype=int64), values=tf.Tensor([b'nathansolomon@std.iyte.edu.tr' b'solomonnathanmekuria@gmail.com'], shape=(2,), dtype=string), dense_shape=tf.Tensor([2], shape=(1,), dtype=int64)), 'id': <tf.Tensor: shape=(), dtype=int64, numpy=1>, 'name': <tf.Tensor: shape=(), dtype=string, numpy=b'Nathan Solomon'>}\n"
     ]
    }
   ],
   "source": [
    "# parse the serialized data\n",
    "feature_description = {\n",
    "    \"name\" : tf.io.FixedLenFeature([], tf.string, default_value= \"\"),\n",
    "    \"id\" : tf.io.FixedLenFeature([], tf.int64, default_value= 0),\n",
    "    \"email\" : tf.io.VarLenFeature(tf.string)\n",
    "}\n",
    "\n",
    "for serialized_example in tf.data.TFRecordDataset([\"my_contacts.tfrecord\"]):\n",
    "    parse_example = tf.io.parse_single_example(serialized_example, feature_description)\n",
    "    print(parse_example)"
   ]
  }
 ],
 "metadata": {
  "kernelspec": {
   "display_name": "Python 3",
   "language": "python",
   "name": "python3"
  },
  "language_info": {
   "codemirror_mode": {
    "name": "ipython",
    "version": 3
   },
   "file_extension": ".py",
   "mimetype": "text/x-python",
   "name": "python",
   "nbconvert_exporter": "python",
   "pygments_lexer": "ipython3",
   "version": "3.11.9"
  }
 },
 "nbformat": 4,
 "nbformat_minor": 5
}
