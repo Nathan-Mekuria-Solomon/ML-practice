{
 "cells": [
  {
   "cell_type": "code",
   "execution_count": 1,
   "id": "208e94e2",
   "metadata": {},
   "outputs": [],
   "source": [
    "import tensorflow as tf"
   ]
  },
  {
   "cell_type": "code",
   "execution_count": 2,
   "id": "72f03730",
   "metadata": {},
   "outputs": [],
   "source": [
    "vocab = [\"<1H OCEAN\", \"INLAND\", \"NEAR OCEAN\", \"NEAR BAY\", \"ISLAND\"]\n",
    "indices = tf.range(len(vocab), dtype= tf.int64)\n",
    "table_init = tf.lookup.KeyValueTensorInitializer(vocab, indices)\n",
    "num_of_oov = 2\n",
    "table = tf.lookup.StaticVocabularyTable(table_init, num_oov_buckets= num_of_oov)"
   ]
  },
  {
   "cell_type": "code",
   "execution_count": 4,
   "id": "f7bf7fe7",
   "metadata": {},
   "outputs": [
    {
     "data": {
      "text/plain": [
       "<tf.Tensor: shape=(4,), dtype=int64, numpy=array([2, 2, 4, 5])>"
      ]
     },
     "execution_count": 4,
     "metadata": {},
     "output_type": "execute_result"
    }
   ],
   "source": [
    "# one-hot vectors\n",
    "categories = tf.constant([\"NEAR OCEAN\", \"NEAR OCEAN\", \"ISLAND\", \"DESERT\"])\n",
    "cat_indices = table.lookup(categories)\n",
    "cat_indices"
   ]
  },
  {
   "cell_type": "code",
   "execution_count": 5,
   "id": "3c80fa46",
   "metadata": {},
   "outputs": [
    {
     "data": {
      "text/plain": [
       "<tf.Tensor: shape=(4, 7), dtype=float32, numpy=\n",
       "array([[0., 0., 1., 0., 0., 0., 0.],\n",
       "       [0., 0., 1., 0., 0., 0., 0.],\n",
       "       [0., 0., 0., 0., 1., 0., 0.],\n",
       "       [0., 0., 0., 0., 0., 1., 0.]], dtype=float32)>"
      ]
     },
     "execution_count": 5,
     "metadata": {},
     "output_type": "execute_result"
    }
   ],
   "source": [
    "cat_one_hot = tf.one_hot(cat_indices, depth= len(vocab) + num_of_oov)\n",
    "cat_one_hot"
   ]
  },
  {
   "cell_type": "code",
   "execution_count": 6,
   "id": "d4c24914",
   "metadata": {},
   "outputs": [
    {
     "data": {
      "text/plain": [
       "<tf.Variable 'Variable:0' shape=(7, 2) dtype=float32, numpy=\n",
       "array([[0.17164636, 0.8210461 ],\n",
       "       [0.07313848, 0.12004721],\n",
       "       [0.409997  , 0.73943245],\n",
       "       [0.4075874 , 0.5736309 ],\n",
       "       [0.95277846, 0.56499803],\n",
       "       [0.7779032 , 0.5198419 ],\n",
       "       [0.7662859 , 0.78984904]], dtype=float32)>"
      ]
     },
     "execution_count": 6,
     "metadata": {},
     "output_type": "execute_result"
    }
   ],
   "source": [
    "# embedding\n",
    "embedding_dim = 2\n",
    "embed_init = tf.random.uniform([len(vocab) + num_of_oov, embedding_dim])\n",
    "embedding_matrix = tf.Variable(embed_init)\n",
    "embedding_matrix"
   ]
  },
  {
   "cell_type": "code",
   "execution_count": 7,
   "id": "ef085837",
   "metadata": {},
   "outputs": [
    {
     "data": {
      "text/plain": [
       "<tf.Tensor: shape=(4, 2), dtype=float32, numpy=\n",
       "array([[0.409997  , 0.73943245],\n",
       "       [0.409997  , 0.73943245],\n",
       "       [0.95277846, 0.56499803],\n",
       "       [0.7779032 , 0.5198419 ]], dtype=float32)>"
      ]
     },
     "execution_count": 7,
     "metadata": {},
     "output_type": "execute_result"
    }
   ],
   "source": [
    "categories = tf.constant([\"NEAR OCEAN\", \"NEAR OCEAN\", \"ISLAND\", \"DESERT\"])\n",
    "cat_indices = table.lookup(categories)\n",
    "tf.nn.embedding_lookup(embedding_matrix, cat_indices)"
   ]
  },
  {
   "cell_type": "code",
   "execution_count": 8,
   "id": "653722fa",
   "metadata": {},
   "outputs": [
    {
     "data": {
      "text/plain": [
       "<tf.Tensor: shape=(4, 2), dtype=float32, numpy=\n",
       "array([[-0.03035202,  0.03076302],\n",
       "       [-0.03035202,  0.03076302],\n",
       "       [ 0.02639463, -0.01720481],\n",
       "       [-0.02153989, -0.02428501]], dtype=float32)>"
      ]
     },
     "execution_count": 8,
     "metadata": {},
     "output_type": "execute_result"
    }
   ],
   "source": [
    "# keras embedding layers\n",
    "embedding = tf.keras.layers.Embedding(input_dim= len(vocab) + num_of_oov, output_dim= embedding_dim)\n",
    "embedding(cat_indices)"
   ]
  },
  {
   "cell_type": "code",
   "execution_count": 13,
   "id": "c6dddf67",
   "metadata": {},
   "outputs": [],
   "source": [
    "# full-model implementation of embedding\n",
    "regular_inputs = tf.keras.layers.Input(shape= [8])\n",
    "categories = tf.keras.layers.Input(shape= [], dtype= tf.string)\n",
    "cat_indices = tf.keras.layers.Lambda(lambda cat: table.lookup(cat), output_shape= lambda s: s)(categories)\n",
    "cat_embedding = tf.keras.layers.Embedding(input_dim= 6, output_dim= 2)(cat_indices)\n",
    "encoded_inputs = tf.keras.layers.Concatenate()([regular_inputs, cat_embedding])\n",
    "output = tf.keras.layers.Dense(1)(encoded_inputs)\n",
    "\n",
    "model = tf.keras.models.Model(inputs= [regular_inputs, categories], outputs= [output])"
   ]
  },
  {
   "cell_type": "code",
   "execution_count": 18,
   "id": "62458bbb",
   "metadata": {},
   "outputs": [],
   "source": [
    "import tensorflow_datasets as tfds"
   ]
  },
  {
   "cell_type": "code",
   "execution_count": null,
   "id": "163b336b",
   "metadata": {},
   "outputs": [],
   "source": []
  }
 ],
 "metadata": {
  "kernelspec": {
   "display_name": "Python 3",
   "language": "python",
   "name": "python3"
  },
  "language_info": {
   "codemirror_mode": {
    "name": "ipython",
    "version": 3
   },
   "file_extension": ".py",
   "mimetype": "text/x-python",
   "name": "python",
   "nbconvert_exporter": "python",
   "pygments_lexer": "ipython3",
   "version": "3.11.9"
  }
 },
 "nbformat": 4,
 "nbformat_minor": 5
}
