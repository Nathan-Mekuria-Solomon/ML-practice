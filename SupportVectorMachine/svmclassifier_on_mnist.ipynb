{
  "cells": [
    {
      "cell_type": "code",
      "execution_count": 3,
      "id": "50f486d3",
      "metadata": {
        "id": "50f486d3"
      },
      "outputs": [],
      "source": [
        "import numpy as np\n",
        "import matplotlib.pyplot as plt\n",
        "%matplotlib inline\n",
        "\n",
        "# load dataset and split training and test set\n",
        "from sklearn.datasets import fetch_openml\n",
        "from sklearn.svm import LinearSVC, SVC\n",
        "from sklearn.preprocessing import StandardScaler\n",
        "\n",
        "dataset = fetch_openml(\"mnist_784\", cache= True, as_frame= False)\n",
        "X = dataset[\"data\"]\n",
        "y = dataset[\"target\"].astype(np.uint8)\n",
        "\n",
        "X_train = X[:60000]\n",
        "X_test = X[60000:]\n",
        "y_train = y[:60000]\n",
        "y_test = y[60000:]"
      ]
    },
    {
      "cell_type": "code",
      "execution_count": null,
      "id": "2ccc3bf0",
      "metadata": {
        "id": "2ccc3bf0"
      },
      "outputs": [],
      "source": [
        "lin_clf = LinearSVC(random_state= 42)\n",
        "lin_clf.fit(X_train, y_train)"
      ]
    },
    {
      "cell_type": "code",
      "source": [
        " from sklearn.metrics import accuracy_score\n",
        "\n",
        " y_pred = lin_clf.predict(X_train)\n",
        " accuracy_score(y_pred, y_train)"
      ],
      "metadata": {
        "id": "1PGEWNtXBDpT"
      },
      "id": "1PGEWNtXBDpT",
      "execution_count": null,
      "outputs": []
    },
    {
      "cell_type": "code",
      "source": [
        "# scaling\n",
        "scaler = StandardScaler()\n",
        "X_train_scaled = scaler.fit_transform(X_train)\n",
        "X_test_scaled = scaler.fit_transform(X_test)\n"
      ],
      "metadata": {
        "id": "8YiszU4aBd1O"
      },
      "id": "8YiszU4aBd1O",
      "execution_count": null,
      "outputs": []
    },
    {
      "cell_type": "code",
      "source": [
        "lin_clf = LinearSVC(random_state= 42)\n",
        "lin_clf.fit(X_train_scaled, y_train)\n",
        "y_pred = lin_clf.predict(X_train_scaled)\n",
        "accuracy_score(y_train, y_predict)"
      ],
      "metadata": {
        "id": "fijPktMYCJBB"
      },
      "id": "fijPktMYCJBB",
      "execution_count": null,
      "outputs": []
    },
    {
      "cell_type": "code",
      "source": [
        "svm_clf = SVC(gamma= \"scaled\")\n",
        "svm_clf.fit(X_train[:10000], y_train[:10000])"
      ],
      "metadata": {
        "id": "7-lgOBlmdEL8"
      },
      "id": "7-lgOBlmdEL8",
      "execution_count": null,
      "outputs": []
    },
    {
      "cell_type": "code",
      "source": [
        "y_pred = svm_clf.predict(X_train_scaled)\n",
        "accuracy_score(y_train, y_pred)"
      ],
      "metadata": {
        "id": "Rvf33sIfgIXk"
      },
      "id": "Rvf33sIfgIXk",
      "execution_count": null,
      "outputs": []
    },
    {
      "cell_type": "code",
      "source": [
        "# randomize search to fine-tune hyperparameter on cross-validation set\n",
        "from sklearn.model_selection import RandomizedSearchCV\n",
        "from scipy.stats import reciprocal, uniform\n",
        "\n",
        "param_distributions = {\"gamma\" : reciprocal(0.0001, 0.01), \"C\" : uniform(1, 10)}\n",
        "rnd_search_clf = RandomizedSearchCV(svm_clf, param_distributions, n_iter= 10, verbose= 2, cv= 3)\n",
        "rnd_search_clf.fit(X_train_scaled[:1000], y_train[1000])"
      ],
      "metadata": {
        "id": "xGUTGiW0gg9z"
      },
      "id": "xGUTGiW0gg9z",
      "execution_count": null,
      "outputs": []
    },
    {
      "cell_type": "code",
      "source": [
        "rnd_search_clf.best_estimator_"
      ],
      "metadata": {
        "id": "l5f4Ulv3kUTH"
      },
      "id": "l5f4Ulv3kUTH",
      "execution_count": null,
      "outputs": []
    },
    {
      "cell_type": "code",
      "source": [],
      "metadata": {
        "id": "gR-pv2Z7ryng"
      },
      "id": "gR-pv2Z7ryng",
      "execution_count": null,
      "outputs": []
    }
  ],
  "metadata": {
    "kernelspec": {
      "display_name": "Python 3",
      "name": "python3"
    },
    "language_info": {
      "codemirror_mode": {
        "name": "ipython",
        "version": 3
      },
      "file_extension": ".py",
      "mimetype": "text/x-python",
      "name": "python",
      "nbconvert_exporter": "python",
      "pygments_lexer": "ipython3",
      "version": "3.11.9"
    },
    "colab": {
      "provenance": [],
      "gpuType": "T4"
    }
  },
  "nbformat": 4,
  "nbformat_minor": 5
}