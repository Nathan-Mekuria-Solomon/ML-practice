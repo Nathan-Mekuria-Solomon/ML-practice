{
 "cells": [
  {
   "cell_type": "markdown",
   "id": "2c48d43d",
   "metadata": {},
   "source": [
    "Using Pretrained Model for Transfer Learning"
   ]
  },
  {
   "cell_type": "code",
   "execution_count": 33,
   "id": "3aff13ac",
   "metadata": {},
   "outputs": [],
   "source": [
    "import warnings\n",
    "warnings.filterwarnings(\"ignore\", category=DeprecationWarning)"
   ]
  },
  {
   "cell_type": "code",
   "execution_count": 34,
   "id": "584c154d",
   "metadata": {},
   "outputs": [
    {
     "data": {
      "text/plain": [
       "3670"
      ]
     },
     "execution_count": 34,
     "metadata": {},
     "output_type": "execute_result"
    }
   ],
   "source": [
    "import tensorflow_datasets as tfds\n",
    "import tensorflow as tf\n",
    "\n",
    "\n",
    "dataset, info = tfds.load(\"tf_flowers\", split= [\n",
    "    \"train[:10%]\", # test set\n",
    "    \"train[10%:25%]\", # validation set\n",
    "    \"train[25%:]\" # train set\n",
    "], as_supervised= True, with_info= True)\n",
    "\n",
    "test_set, valid_set, train_set = dataset\n",
    "dataset_size = info.splits[\"train\"].num_examples\n",
    "dataset_size"
   ]
  },
  {
   "cell_type": "code",
   "execution_count": 35,
   "id": "53a5db6b",
   "metadata": {},
   "outputs": [
    {
     "data": {
      "text/plain": [
       "['dandelion', 'daisy', 'tulips', 'sunflowers', 'roses']"
      ]
     },
     "execution_count": 35,
     "metadata": {},
     "output_type": "execute_result"
    }
   ],
   "source": [
    "dataset_classes = info.features[\"label\"].names\n",
    "dataset_classes"
   ]
  },
  {
   "cell_type": "code",
   "execution_count": 36,
   "id": "68189ce2",
   "metadata": {},
   "outputs": [
    {
     "data": {
      "text/plain": [
       "5"
      ]
     },
     "execution_count": 36,
     "metadata": {},
     "output_type": "execute_result"
    }
   ],
   "source": [
    "n_classes = info.features[\"label\"].num_classes\n",
    "n_classes"
   ]
  },
  {
   "cell_type": "code",
   "execution_count": 37,
   "id": "eece8dc8",
   "metadata": {},
   "outputs": [
    {
     "data": {
      "text/plain": [
       "2752"
      ]
     },
     "execution_count": 37,
     "metadata": {},
     "output_type": "execute_result"
    }
   ],
   "source": [
    "len(train_set)"
   ]
  },
  {
   "cell_type": "markdown",
   "id": "d779407b",
   "metadata": {},
   "source": [
    "Preprocessing the Datasets to XCEPTION CNN Architecture"
   ]
  },
  {
   "cell_type": "code",
   "execution_count": 38,
   "id": "046e7df6",
   "metadata": {},
   "outputs": [],
   "source": [
    "def preprocess(image, label):\n",
    "    resized_image = tf.image.resize(image, [224, 224])\n",
    "    final_image = tf.keras.applications.xception.preprocess_input(resized_image)\n",
    "    return final_image, label"
   ]
  },
  {
   "cell_type": "markdown",
   "id": "0425d2d2",
   "metadata": {},
   "source": [
    "# Tip <br>\n",
    "add keras.preprocessing.image.ImageDataGenerator() for data augmentation "
   ]
  },
  {
   "cell_type": "code",
   "execution_count": 39,
   "id": "e61084a3",
   "metadata": {},
   "outputs": [],
   "source": [
    "# apply preprocess, batch, and prefetch on the dataset\n",
    "batch_size = 32\n",
    "train_set = train_set.map(preprocess).batch(batch_size).prefetch(tf.data.AUTOTUNE)\n",
    "valid_set = valid_set.map(preprocess).batch(batch_size).prefetch(tf.data.AUTOTUNE)\n",
    "test_set = test_set.map(preprocess).batch(batch_size).prefetch(tf.data.AUTOTUNE)"
   ]
  },
  {
   "cell_type": "code",
   "execution_count": 40,
   "id": "0d56b8d0",
   "metadata": {},
   "outputs": [],
   "source": [
    "# load pretrained xception model excluding top layer\n",
    "base_model = tf.keras.applications.xception.Xception(weights= \"imagenet\", include_top= False) \n",
    "# create custome pooling and dense layer \n",
    "avg = tf.keras.layers.AveragePooling2D(pool_size= (2, 2))(base_model.output) # specify pool_size\n",
    "output = tf.keras.layers.Dense(n_classes, activation= \"softmax\")(avg)\n",
    "# create the model \n",
    "model = tf.keras.models.Model(inputs= base_model.input, outputs= output)"
   ]
  },
  {
   "cell_type": "code",
   "execution_count": 41,
   "id": "92f0987d",
   "metadata": {},
   "outputs": [],
   "source": [
    "# freezing pretrained layers at the beginning of training\n",
    "for layer in base_model.layers:\n",
    "    layer.trainable = False"
   ]
  },
  {
   "cell_type": "code",
   "execution_count": 42,
   "id": "16973702",
   "metadata": {},
   "outputs": [
    {
     "data": {
      "text/plain": [
       "False"
      ]
     },
     "execution_count": 42,
     "metadata": {},
     "output_type": "execute_result"
    }
   ],
   "source": [
    "model.layers[1].trainable"
   ]
  },
  {
   "cell_type": "code",
   "execution_count": null,
   "id": "53753927",
   "metadata": {},
   "outputs": [],
   "source": [
    "# compile model\n",
    "optimizer = tf.keras.optimizers.SGD(learning_rate= 0.2, momentum= 0.9, decay= 0.01)\n",
    "model.compile(loss= \"spare_categorical_crossentropy\",\n",
    "              optimizer= optimizer,\n",
    "              metrics= [\"accuracy\"])\n",
    "history = model.fit(train_set, epochs= 5, validation_data= valid_set)"
   ]
  }
 ],
 "metadata": {
  "kernelspec": {
   "display_name": "Python 3",
   "language": "python",
   "name": "python3"
  },
  "language_info": {
   "codemirror_mode": {
    "name": "ipython",
    "version": 3
   },
   "file_extension": ".py",
   "mimetype": "text/x-python",
   "name": "python",
   "nbconvert_exporter": "python",
   "pygments_lexer": "ipython3",
   "version": "3.11.9"
  }
 },
 "nbformat": 4,
 "nbformat_minor": 5
}
