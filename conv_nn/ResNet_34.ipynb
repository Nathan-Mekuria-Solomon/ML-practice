{
 "cells": [
  {
   "cell_type": "markdown",
   "id": "12893be4",
   "metadata": {},
   "source": [
    "# Residual Network <br>\n",
    "Implementing ResNet-34 from Scratch"
   ]
  },
  {
   "cell_type": "code",
   "execution_count": 1,
   "id": "1889ee7a",
   "metadata": {},
   "outputs": [],
   "source": [
    "import tensorflow as tf"
   ]
  },
  {
   "cell_type": "code",
   "execution_count": 5,
   "id": "33876d6a",
   "metadata": {},
   "outputs": [],
   "source": [
    "# Residual unit class\n",
    "class ResidualUnit(tf.keras.layers.Layer):\n",
    "    def __init__(self, filter, strides= 1, activation= \"relu\", **kwargs):\n",
    "        super().__init__(**kwargs)\n",
    "        self.activation = tf.keras.activations.get(activation)\n",
    "        self.main_layers = [\n",
    "            tf.keras.layers.Conv2D(filter, 3, strides= strides, padding= \"same\", use_bias= False),\n",
    "            tf.keras.layers.BatchNormalization(),\n",
    "            self.activation,\n",
    "            tf.keras.layers.Conv2D(filter, 3, strides= 1, padding= \"same\", use_bias= False),\n",
    "            tf.keras.layers.BatchNormalization()\n",
    "        ]\n",
    "\n",
    "        self.skip_layers = []\n",
    "        if strides > 1:\n",
    "            self.skip_layers = [\n",
    "                tf.keras.layers.Conv2D(filter, 1, strides= strides, padding= \"same\", use_bias= False),\n",
    "                tf.keras.layers.BatchNormalization()\n",
    "            ]\n",
    "        \n",
    "    def call(self, inputs):\n",
    "        Z = inputs\n",
    "        for layers in self.main_layers:\n",
    "            Z = layers(Z)\n",
    "\n",
    "        skip_Z = inputs\n",
    "        for layers in self.skip_layers:\n",
    "            skip_Z = layers(skip_Z)\n",
    "\n",
    "        return self.activation(Z, skip_Z)"
   ]
  },
  {
   "cell_type": "code",
   "execution_count": null,
   "id": "3e92b14f",
   "metadata": {},
   "outputs": [],
   "source": []
  }
 ],
 "metadata": {
  "kernelspec": {
   "display_name": "Python 3",
   "language": "python",
   "name": "python3"
  },
  "language_info": {
   "codemirror_mode": {
    "name": "ipython",
    "version": 3
   },
   "file_extension": ".py",
   "mimetype": "text/x-python",
   "name": "python",
   "nbconvert_exporter": "python",
   "pygments_lexer": "ipython3",
   "version": "3.11.9"
  }
 },
 "nbformat": 4,
 "nbformat_minor": 5
}
