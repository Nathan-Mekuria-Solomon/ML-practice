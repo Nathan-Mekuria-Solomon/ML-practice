{
  "nbformat": 4,
  "nbformat_minor": 0,
  "metadata": {
    "colab": {
      "provenance": [],
      "gpuType": "V28",
      "authorship_tag": "ABX9TyPuNSrisiqYcGSrjM1OmPJM",
      "include_colab_link": true
    },
    "kernelspec": {
      "name": "python3",
      "display_name": "Python 3"
    },
    "language_info": {
      "name": "python"
    },
    "accelerator": "TPU"
  },
  "cells": [
    {
      "cell_type": "markdown",
      "metadata": {
        "id": "view-in-github",
        "colab_type": "text"
      },
      "source": [
        "<a href=\"https://colab.research.google.com/github/Nathan-Mekuria-Solomon/ML-practice/blob/main/natural_language_processing_edited/char_rnn.ipynb\" target=\"_parent\"><img src=\"https://colab.research.google.com/assets/colab-badge.svg\" alt=\"Open In Colab\"/></a>"
      ]
    },
    {
      "cell_type": "code",
      "execution_count": 1,
      "metadata": {
        "id": "LTQxJ7MNVswA"
      },
      "outputs": [],
      "source": [
        "import tensorflow as tf\n",
        "import numpy as np"
      ]
    },
    {
      "cell_type": "code",
      "source": [
        "# create dataset\n",
        "shakespeare_url = \"https://raw.githubusercontent.com/karpathy/char-rnn/master/data/tinyshakespeare/input.txt\"\n",
        "file_path = tf.keras.utils.get_file(\"shakespeare.txt\", shakespeare_url)\n",
        "\n",
        "with open(file_path) as f:\n",
        "  shakespeare_text = f.read()"
      ],
      "metadata": {
        "id": "xFxfgpnxWdkW",
        "colab": {
          "base_uri": "https://localhost:8080/"
        },
        "outputId": "528b5767-dc47-4add-8777-c5dae8c1790a"
      },
      "execution_count": 2,
      "outputs": [
        {
          "output_type": "stream",
          "name": "stdout",
          "text": [
            "Downloading data from https://raw.githubusercontent.com/karpathy/char-rnn/master/data/tinyshakespeare/input.txt\n",
            "\u001b[1m1115394/1115394\u001b[0m \u001b[32m━━━━━━━━━━━━━━━━━━━━\u001b[0m\u001b[37m\u001b[0m \u001b[1m0s\u001b[0m 0us/step\n"
          ]
        }
      ]
    },
    {
      "cell_type": "code",
      "source": [
        "# tokenization\n",
        "tokenizer = tf.keras.preprocessing.text.Tokenizer(char_level= True) # default: word-level encoding\n",
        "tokenizer.fit_on_texts([shakespeare_text])"
      ],
      "metadata": {
        "id": "5Ih_6QNmWzWj"
      },
      "execution_count": 3,
      "outputs": []
    },
    {
      "cell_type": "code",
      "source": [
        "tokenizer.texts_to_sequences([\"First\"])"
      ],
      "metadata": {
        "colab": {
          "base_uri": "https://localhost:8080/"
        },
        "id": "MuFaICRnYFBz",
        "outputId": "e383e32c-71d3-40bc-def2-ec7c53c3d95a"
      },
      "execution_count": 4,
      "outputs": [
        {
          "output_type": "execute_result",
          "data": {
            "text/plain": [
              "[[20, 6, 9, 8, 3]]"
            ]
          },
          "metadata": {},
          "execution_count": 4
        }
      ]
    },
    {
      "cell_type": "code",
      "source": [
        "tokenizer.sequences_to_texts([[20, 6, 9, 8, 3]])"
      ],
      "metadata": {
        "colab": {
          "base_uri": "https://localhost:8080/"
        },
        "id": "QxMIG0LqZHUj",
        "outputId": "adf627fc-ecd4-4de1-9e62-f150b4bfda33"
      },
      "execution_count": 5,
      "outputs": [
        {
          "output_type": "execute_result",
          "data": {
            "text/plain": [
              "['f i r s t']"
            ]
          },
          "metadata": {},
          "execution_count": 5
        }
      ]
    },
    {
      "cell_type": "code",
      "source": [
        "max_id = len(tokenizer.word_index)\n",
        "max_id"
      ],
      "metadata": {
        "colab": {
          "base_uri": "https://localhost:8080/"
        },
        "id": "EgLL7MmRZRsr",
        "outputId": "6a9668f7-0a57-4e98-993f-5370d6065d20"
      },
      "execution_count": 6,
      "outputs": [
        {
          "output_type": "execute_result",
          "data": {
            "text/plain": [
              "39"
            ]
          },
          "metadata": {},
          "execution_count": 6
        }
      ]
    },
    {
      "cell_type": "code",
      "source": [
        "dataset_size = sum(len(text) for text in shakespeare_text)\n",
        "dataset_size"
      ],
      "metadata": {
        "colab": {
          "base_uri": "https://localhost:8080/"
        },
        "id": "oS_2Kyi7ZaQY",
        "outputId": "7364d457-71bd-4032-c67f-081b37c60165"
      },
      "execution_count": 7,
      "outputs": [
        {
          "output_type": "execute_result",
          "data": {
            "text/plain": [
              "1115394"
            ]
          },
          "metadata": {},
          "execution_count": 7
        }
      ]
    },
    {
      "cell_type": "code",
      "source": [
        "[encoded] = np.array(tokenizer.texts_to_sequences([shakespeare_text])) - 1"
      ],
      "metadata": {
        "id": "znwAOVM-ZgM7"
      },
      "execution_count": 8,
      "outputs": []
    },
    {
      "cell_type": "code",
      "source": [
        "train_size = dataset_size * 90 // 100\n",
        "dataset = tf.data.Dataset.from_tensor_slices(encoded[:train_size])\n",
        "first_few = []\n",
        "for item in dataset.take(10):\n",
        "  first_few.append(int(item.numpy()))\n",
        "\n",
        "tokenizer.sequences_to_texts([first_few])"
      ],
      "metadata": {
        "id": "SL4QDMI5aCO0",
        "outputId": "365e0e95-62a3-4893-e827-c947810dca6a",
        "colab": {
          "base_uri": "https://localhost:8080/"
        }
      },
      "execution_count": 9,
      "outputs": [
        {
          "output_type": "execute_result",
          "data": {
            "text/plain": [
              "['c a s h e , a e a']"
            ]
          },
          "metadata": {},
          "execution_count": 9
        }
      ]
    },
    {
      "cell_type": "code",
      "source": [
        "# breakdown the sequence into chunks\n",
        "n_steps = 100\n",
        "window_length = n_steps + 1\n",
        "dataset = dataset.window(window_length, shift= 1, drop_remainder= True)"
      ],
      "metadata": {
        "id": "lzVVqWeW7B7I"
      },
      "execution_count": 10,
      "outputs": []
    },
    {
      "cell_type": "code",
      "source": [
        "# creating a flat dataset for training\n",
        "dataset = dataset.flat_map(lambda window: window.batch(window_length))\n",
        "\n",
        "# split input and target\n",
        "dataset = dataset.map(lambda window: (window[:-1], window[1:])) # (input, target)\n",
        "\n",
        "# batch and shuffle\n",
        "dataset = dataset.shuffle(10000).batch(32)"
      ],
      "metadata": {
        "id": "0NP0cq8b_Kdy"
      },
      "execution_count": 11,
      "outputs": []
    },
    {
      "cell_type": "code",
      "source": [
        "dataset = dataset.map(lambda X_batch, Y_batch: (tf.one_hot(X_batch, depth= max_id), Y_batch))"
      ],
      "metadata": {
        "id": "I_B6pj7HAgO8"
      },
      "execution_count": 12,
      "outputs": []
    },
    {
      "cell_type": "code",
      "source": [
        "dataset = dataset.prefetch(1)"
      ],
      "metadata": {
        "id": "FYaAGKv1CiHj"
      },
      "execution_count": 13,
      "outputs": []
    },
    {
      "cell_type": "code",
      "source": [
        "# model\n",
        "model = tf.keras.models.Sequential([\n",
        "    tf.keras.layers.Input(shape= [None, max_id]),\n",
        "    tf.keras.layers.GRU(128, return_sequences= True, dropout= 0.2, recurrent_dropout= 0.2),\n",
        "    tf.keras.layers.GRU(128, return_sequences= True, dropout= 0.2, recurrent_dropout= 0.2),\n",
        "    tf.keras.layers.TimeDistributed(tf.keras.layers.Dense(max_id, activation= \"softmax\"))\n",
        "])"
      ],
      "metadata": {
        "id": "vjqPNch9TIuM"
      },
      "execution_count": 14,
      "outputs": []
    },
    {
      "cell_type": "code",
      "source": [
        "model.compile(loss= \"sparse_categorical_crossentropy\",\n",
        "              optimizer= \"adam\")"
      ],
      "metadata": {
        "id": "-aiNMUyfmQ1r"
      },
      "execution_count": 17,
      "outputs": []
    },
    {
      "cell_type": "code",
      "source": [
        "model.fit(dataset, epochs= 20)"
      ],
      "metadata": {
        "collapsed": true,
        "colab": {
          "base_uri": "https://localhost:8080/"
        },
        "id": "NU05EzNMmYBN",
        "outputId": "18c2ba69-7c1d-4a52-acbc-53518e2f6011"
      },
      "execution_count": null,
      "outputs": [
        {
          "output_type": "stream",
          "name": "stdout",
          "text": [
            "Epoch 1/20\n",
            "  19318/Unknown \u001b[1m10565s\u001b[0m 546ms/step - loss: 1.6775"
          ]
        }
      ]
    },
    {
      "cell_type": "code",
      "source": [],
      "metadata": {
        "id": "KTDtm4SFmahd"
      },
      "execution_count": null,
      "outputs": []
    }
  ]
}