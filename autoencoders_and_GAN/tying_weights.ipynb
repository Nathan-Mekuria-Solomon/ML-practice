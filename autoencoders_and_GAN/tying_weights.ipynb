{
  "cells": [
    {
      "cell_type": "markdown",
      "id": "c54fac28",
      "metadata": {
        "id": "c54fac28"
      },
      "source": [
        "Tying Weights of Symmetric Autoencoders"
      ]
    },
    {
      "cell_type": "code",
      "execution_count": 1,
      "id": "82bfe83b",
      "metadata": {
        "id": "82bfe83b"
      },
      "outputs": [],
      "source": [
        "import tensorflow as tf\n",
        "from tensorflow import keras"
      ]
    },
    {
      "cell_type": "code",
      "execution_count": 4,
      "id": "2873ce78",
      "metadata": {
        "id": "2873ce78"
      },
      "outputs": [],
      "source": [
        "# custome layer\n",
        "class DenseTransposed(keras.layers.Layer):\n",
        "    def __init__(self, dense, activation= None, **kwargs):\n",
        "        self.dense = dense\n",
        "        self.activation = keras.activations.get(activation)\n",
        "        super().__init__(**kwargs)\n",
        "\n",
        "    def build(self, batch_input_shape):\n",
        "        kernel = self.dense.weights[0]\n",
        "        output_dim_transposed = kernel.shape[0]\n",
        "        self.biases = self.add_weight(name= \"bias\", initializer= \"zeros\", shape= [output_dim_transposed])\n",
        "        super().build(batch_input_shape)\n",
        "\n",
        "    def call(self, inputs):\n",
        "        kernel = self.dense.weights[0]\n",
        "        z = tf.matmul(inputs, kernel, transpose_b= True) # shape(weights[0]) = [output_dim, input_dim] (why we transpose)\n",
        "        return self.activation(z + self.biases)"
      ]
    },
    {
      "cell_type": "code",
      "execution_count": 5,
      "id": "6a7099af",
      "metadata": {
        "id": "6a7099af"
      },
      "outputs": [],
      "source": [
        "# tied autoencoder\n",
        "dense_1 = keras.layers.Dense(100, activation= \"selu\", use_bias= False)\n",
        "dense_2 = keras.layers.Dense(30, activation= \"selu\", use_bias= False)\n",
        "\n",
        "tied_encoder = keras.models.Sequential([\n",
        "    keras.layers.Input(shape= [28, 28]),\n",
        "    keras.layers.Flatten(),\n",
        "    dense_1,\n",
        "    dense_2\n",
        "])\n",
        "\n",
        "tied_decoder = keras.models.Sequential([\n",
        "    DenseTransposed(dense_2, activation= \"selu\"),\n",
        "    DenseTransposed(dense_1, activation= \"sigmoid\"),\n",
        "    keras.layers.Reshape([28, 28])\n",
        "])\n",
        "\n",
        "tied_autoencoder = keras.models.Sequential([tied_encoder, tied_decoder])"
      ]
    },
    {
      "cell_type": "code",
      "execution_count": null,
      "id": "fdc4509d",
      "metadata": {
        "id": "fdc4509d"
      },
      "outputs": [],
      "source": []
    }
  ],
  "metadata": {
    "kernelspec": {
      "display_name": "Python 3",
      "language": "python",
      "name": "python3"
    },
    "language_info": {
      "codemirror_mode": {
        "name": "ipython",
        "version": 3
      },
      "file_extension": ".py",
      "mimetype": "text/x-python",
      "name": "python",
      "nbconvert_exporter": "python",
      "pygments_lexer": "ipython3",
      "version": "3.11.9"
    },
    "colab": {
      "provenance": []
    }
  },
  "nbformat": 4,
  "nbformat_minor": 5
}