{
 "cells": [
  {
   "cell_type": "markdown",
   "id": "e2205848",
   "metadata": {},
   "source": [
    "simple linear autoencoder performing PCA"
   ]
  },
  {
   "cell_type": "code",
   "execution_count": 3,
   "id": "9ca56a67",
   "metadata": {},
   "outputs": [],
   "source": [
    "import tensorflow as tf\n",
    "from tensorflow import keras \n",
    "\n",
    "encoder = keras.models.Sequential([keras.layers.Dense(2, input_shape= [3])])\n",
    "decoder = keras.models.Sequential([keras.layers.Dense(3, input_shape= [2])])\n",
    "autoencoder = keras.models.Sequential([encoder, decoder])"
   ]
  },
  {
   "cell_type": "markdown",
   "id": "a70e930c",
   "metadata": {},
   "source": [
    "Deep (Stacked) Autoencoders on Fashion MNIST"
   ]
  },
  {
   "cell_type": "code",
   "execution_count": 4,
   "id": "c9c1a7fd",
   "metadata": {},
   "outputs": [
    {
     "data": {
      "text/plain": [
       "(60000, 28, 28)"
      ]
     },
     "execution_count": 4,
     "metadata": {},
     "output_type": "execute_result"
    }
   ],
   "source": [
    "fashion_mnist = keras.datasets.fashion_mnist\n",
    "(X_train, y_train), (X_test, y_test) = fashion_mnist.load_data()\n",
    "X_train.shape "
   ]
  },
  {
   "cell_type": "code",
   "execution_count": 5,
   "id": "439c73b7",
   "metadata": {},
   "outputs": [
    {
     "data": {
      "text/plain": [
       "(55000, 28, 28)"
      ]
     },
     "execution_count": 5,
     "metadata": {},
     "output_type": "execute_result"
    }
   ],
   "source": [
    "X_valid, X_train = X_train[ :5000] / 255. , X_train[5000: ] / 255.0\n",
    "y_valid, y_train = y_train[ :5000] , y_train[5000: ]\n",
    "X_train.shape"
   ]
  },
  {
   "cell_type": "code",
   "execution_count": 10,
   "id": "f4c3df8e",
   "metadata": {},
   "outputs": [],
   "source": [
    "# stacked autoencoder\n",
    "encoder = keras.models.Sequential([\n",
    "    keras.layers.Input([28, 28]),\n",
    "    keras.layers.Flatten(),\n",
    "    keras.layers.Dense(100, activation= \"selu\"),\n",
    "    keras.layers.Dense(30, activation= \"selu\")\n",
    "])\n",
    "\n",
    "decoder = keras.models.Sequential([\n",
    "    keras.layers.Input([30]),\n",
    "    keras.layers.Dense(100, activation= \"selu\"),\n",
    "    keras.layers.Dense(28 * 28, activation= \"sigmoid\"),\n",
    "    keras.layers.Reshape([28, 28])\n",
    "])\n",
    "\n",
    "stacked_ae = keras.models.Sequential([encoder, decoder])"
   ]
  },
  {
   "cell_type": "code",
   "execution_count": null,
   "id": "479c7445",
   "metadata": {},
   "outputs": [],
   "source": [
    "stacked_ae.compile([\n",
    "    loss= \"binary_categorical_crossentropy\",\n",
    "    optimizer = keras.\n",
    "])"
   ]
  }
 ],
 "metadata": {
  "kernelspec": {
   "display_name": "Python 3",
   "language": "python",
   "name": "python3"
  },
  "language_info": {
   "codemirror_mode": {
    "name": "ipython",
    "version": 3
   },
   "file_extension": ".py",
   "mimetype": "text/x-python",
   "name": "python",
   "nbconvert_exporter": "python",
   "pygments_lexer": "ipython3",
   "version": "3.11.9"
  }
 },
 "nbformat": 4,
 "nbformat_minor": 5
}
